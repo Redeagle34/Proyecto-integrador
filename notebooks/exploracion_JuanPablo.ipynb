{
 "cells": [
  {
   "cell_type": "code",
   "execution_count": null,
   "id": "f4d972a7",
   "metadata": {},
   "outputs": [],
   "source": [
    "from pandasql import sqldf\n",
    "import tkinter as tk\n",
    "from tkinter import filedialog\n",
    "from tkinter.filedialog import askopenfilename\n",
    "import pandas as pd\n",
    "import matplotlib.pyplot as plt\n",
    "import seaborn as sns\n",
    "\n",
    "def select_file():\n",
    "        file_path = filedialog.askopenfilename(\n",
    "            title=\"Select a file\",\n",
    "            filetypes=[(\"CSV files\", \"*.csv\"), (\"All files\", \"*.*\")]\n",
    "        )\n",
    "        if file_path:\n",
    "            # Process the selected file (e.g., read its content, display its path)\n",
    "            print(\"Selected file:\", file_path)\n",
    "            data = pd.read_csv(file_path, header = 0)\n",
    "            # You can add further logic here to work with the file_path\n",
    "\n",
    "root = tk.Tk()\n",
    "root.title(\"File Upload Example\")\n",
    "\n",
    "upload_button = tk.Button(root, text=\"Select File\", command=select_file)\n",
    "upload_button.pack(pady=20)\n",
    "\n",
    "root.mainloop()\n",
    "\n",
    "\n",
    "\n"
   ]
  }
 ],
 "metadata": {
  "kernelspec": {
   "display_name": "Python 3",
   "language": "python",
   "name": "python3"
  },
  "language_info": {
   "codemirror_mode": {
    "name": "ipython",
    "version": 3
   },
   "file_extension": ".py",
   "mimetype": "text/x-python",
   "name": "python",
   "nbconvert_exporter": "python",
   "pygments_lexer": "ipython3",
   "version": "3.11.9"
  }
 },
 "nbformat": 4,
 "nbformat_minor": 5
}
